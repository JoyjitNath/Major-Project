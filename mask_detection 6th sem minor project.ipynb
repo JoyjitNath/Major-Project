{
 "cells": [
  {
   "cell_type": "code",
   "execution_count": 11,
   "id": "33630f2b",
   "metadata": {},
   "outputs": [
    {
     "name": "stdout",
     "output_type": "stream",
     "text": [
      "Requirement already satisfied: opencv-python in c:\\users\\kiit\\anaconda3\\envs\\new_env\\lib\\site-packages (4.5.1.48)\n",
      "Requirement already satisfied: numpy>=1.17.3 in c:\\users\\kiit\\anaconda3\\envs\\new_env\\lib\\site-packages (from opencv-python) (1.19.2)\n"
     ]
    }
   ],
   "source": [
    "!pip install opencv-python"
   ]
  },
  {
   "cell_type": "code",
   "execution_count": 1,
   "id": "81f06eb8",
   "metadata": {},
   "outputs": [],
   "source": [
    "import cv2"
   ]
  },
  {
   "cell_type": "code",
   "execution_count": 2,
   "id": "c56e9c00",
   "metadata": {},
   "outputs": [],
   "source": [
    "import numpy as np"
   ]
  },
  {
   "cell_type": "code",
   "execution_count": 3,
   "id": "ffef0444",
   "metadata": {},
   "outputs": [],
   "source": [
    "from keras.utils import np_utils"
   ]
  },
  {
   "cell_type": "code",
   "execution_count": 4,
   "id": "47f44571",
   "metadata": {},
   "outputs": [],
   "source": [
    "import os"
   ]
  },
  {
   "cell_type": "code",
   "execution_count": 5,
   "id": "2f54418f",
   "metadata": {},
   "outputs": [],
   "source": [
    "data_path='C:/Users/KIIT/Desktop/dataset'"
   ]
  },
  {
   "cell_type": "code",
   "execution_count": 6,
   "id": "a1de8a9e",
   "metadata": {},
   "outputs": [
    {
     "name": "stdout",
     "output_type": "stream",
     "text": [
      "{'without_mask': 0, 'with_mask': 1}\n",
      "['without_mask', 'with_mask']\n",
      "[0, 1]\n"
     ]
    }
   ],
   "source": [
    "categories=os.listdir(data_path)\n",
    "labels=[i for i in range(len(categories))]\n",
    "label_dict=dict(zip(categories,labels))\n",
    "print(label_dict)\n",
    "print(categories)\n",
    "print(labels)"
   ]
  },
  {
   "cell_type": "code",
   "execution_count": 7,
   "id": "bdf81a6e",
   "metadata": {},
   "outputs": [],
   "source": [
    "img_size=100\n",
    "data=[]\n",
    "target=[]"
   ]
  },
  {
   "cell_type": "code",
   "execution_count": 8,
   "id": "aa1ad54a",
   "metadata": {},
   "outputs": [],
   "source": [
    "for category in categories:\n",
    "    folder_path=os.path.join(data_path,category)\n",
    "    img_names=os.listdir(folder_path)\n",
    "    \n",
    "    for img_name in img_names:\n",
    "        img_path=os.path.join(folder_path,img_name)\n",
    "        img=cv2.imread(img_path)\n",
    "        gray=cv2.cvtColor(img,cv2.COLOR_BGR2GRAY)\n",
    "        resized=cv2.resize(gray,(img_size,img_size))\n",
    "        data.append(resized)\n",
    "        target.append(label_dict[category])"
   ]
  },
  {
   "cell_type": "code",
   "execution_count": 9,
   "id": "2fa3accd",
   "metadata": {},
   "outputs": [],
   "source": [
    "data=np.array(data)/255.0\n",
    "data=np.reshape(data,(data.shape[0],img_size,img_size,1))\n",
    "target=np.array(target)\n",
    "new_target=np_utils.to_categorical(target)"
   ]
  },
  {
   "cell_type": "code",
   "execution_count": 10,
   "id": "c33d875d",
   "metadata": {},
   "outputs": [],
   "source": [
    "np.save('data',data)\n",
    "np.save('target',new_target)"
   ]
  },
  {
   "cell_type": "code",
   "execution_count": 11,
   "id": "2efb649f",
   "metadata": {},
   "outputs": [],
   "source": [
    "data=np.load('data.npy')\n",
    "target=np.load('target.npy')"
   ]
  },
  {
   "cell_type": "code",
   "execution_count": 12,
   "id": "59356804",
   "metadata": {},
   "outputs": [],
   "source": [
    "from keras.models import Sequential\n",
    "from keras.layers import Dense,Activation,Flatten,Dropout\n",
    "from keras.layers import Conv2D,MaxPooling2D\n",
    "from keras.callbacks import ModelCheckpoint"
   ]
  },
  {
   "cell_type": "code",
   "execution_count": 13,
   "id": "89ee307d",
   "metadata": {},
   "outputs": [],
   "source": [
    "model=Sequential()"
   ]
  },
  {
   "cell_type": "code",
   "execution_count": 14,
   "id": "8c0958aa",
   "metadata": {},
   "outputs": [],
   "source": [
    "model.add(Conv2D(200,(3,3),input_shape=data.shape[1:]))\n",
    "model.add(Activation('relu'))\n",
    "model.add(MaxPooling2D(pool_size=(2,2)))"
   ]
  },
  {
   "cell_type": "code",
   "execution_count": 15,
   "id": "5097ba5c",
   "metadata": {},
   "outputs": [],
   "source": [
    "model.add(Conv2D(100,(3,3)))\n",
    "model.add(Activation('relu'))\n",
    "model.add(MaxPooling2D(pool_size=(2,2)))"
   ]
  },
  {
   "cell_type": "code",
   "execution_count": 16,
   "id": "477a09eb",
   "metadata": {},
   "outputs": [],
   "source": [
    "model.add(Flatten())\n",
    "model.add(Dropout(0.5))\n",
    "model.add(Dense(50,activation='relu'))\n",
    "model.add(Dense(2,activation='softmax'))"
   ]
  },
  {
   "cell_type": "code",
   "execution_count": 17,
   "id": "ce75ee71",
   "metadata": {},
   "outputs": [],
   "source": [
    "model.compile(loss='categorical_crossentropy',optimizer='adam',metrics=['accuracy'])"
   ]
  },
  {
   "cell_type": "code",
   "execution_count": 29,
   "id": "cf2dbe72",
   "metadata": {},
   "outputs": [
    {
     "name": "stdout",
     "output_type": "stream",
     "text": [
      "Requirement already satisfied: scikit-learn in c:\\users\\kiit\\anaconda3\\envs\\new_env\\lib\\site-packages (0.24.1)\n",
      "Requirement already satisfied: joblib>=0.11 in c:\\users\\kiit\\anaconda3\\envs\\new_env\\lib\\site-packages (from scikit-learn) (1.0.1)\n",
      "Requirement already satisfied: threadpoolctl>=2.0.0 in c:\\users\\kiit\\anaconda3\\envs\\new_env\\lib\\site-packages (from scikit-learn) (2.1.0)\n",
      "Requirement already satisfied: scipy>=0.19.1 in c:\\users\\kiit\\anaconda3\\envs\\new_env\\lib\\site-packages (from scikit-learn) (1.6.2)\n",
      "Requirement already satisfied: numpy>=1.13.3 in c:\\users\\kiit\\anaconda3\\envs\\new_env\\lib\\site-packages (from scikit-learn) (1.19.2)\n",
      "Note: you may need to restart the kernel to use updated packages.\n"
     ]
    }
   ],
   "source": [
    "pip install scikit-learn"
   ]
  },
  {
   "cell_type": "code",
   "execution_count": 18,
   "id": "12637ded",
   "metadata": {},
   "outputs": [],
   "source": [
    "from sklearn.model_selection import train_test_split\n",
    "train_data,test_data,train_target,test_target=train_test_split(data,target,test_size=0.2)"
   ]
  },
  {
   "cell_type": "code",
   "execution_count": 19,
   "id": "aa296b41",
   "metadata": {
    "scrolled": false
   },
   "outputs": [
    {
     "name": "stdout",
     "output_type": "stream",
     "text": [
      "Epoch 1/20\n",
      "28/28 [==============================] - 46s 2s/step - loss: 0.7498 - accuracy: 0.5460 - val_loss: 0.6611 - val_accuracy: 0.5273\n",
      "INFO:tensorflow:Assets written to: model-001.model\\assets\n",
      "Epoch 2/20\n",
      "28/28 [==============================] - 62s 2s/step - loss: 0.5793 - accuracy: 0.6982 - val_loss: 0.4539 - val_accuracy: 0.7909\n",
      "INFO:tensorflow:Assets written to: model-002.model\\assets\n",
      "Epoch 3/20\n",
      "28/28 [==============================] - 51s 2s/step - loss: 0.4048 - accuracy: 0.8231 - val_loss: 0.2636 - val_accuracy: 0.9182\n",
      "INFO:tensorflow:Assets written to: model-003.model\\assets\n",
      "Epoch 4/20\n",
      "28/28 [==============================] - 46s 2s/step - loss: 0.2804 - accuracy: 0.8823 - val_loss: 0.3006 - val_accuracy: 0.8682\n",
      "Epoch 5/20\n",
      "28/28 [==============================] - 61s 2s/step - loss: 0.1688 - accuracy: 0.9399 - val_loss: 0.2481 - val_accuracy: 0.9227\n",
      "INFO:tensorflow:Assets written to: model-005.model\\assets\n",
      "Epoch 6/20\n",
      "28/28 [==============================] - 52s 2s/step - loss: 0.1217 - accuracy: 0.9592 - val_loss: 0.1790 - val_accuracy: 0.9364\n",
      "INFO:tensorflow:Assets written to: model-006.model\\assets\n",
      "Epoch 7/20\n",
      "28/28 [==============================] - 60s 2s/step - loss: 0.0839 - accuracy: 0.9719 - val_loss: 0.2635 - val_accuracy: 0.8727\n",
      "Epoch 8/20\n",
      "28/28 [==============================] - 46s 2s/step - loss: 0.1611 - accuracy: 0.9332 - val_loss: 0.1479 - val_accuracy: 0.9591\n",
      "INFO:tensorflow:Assets written to: model-008.model\\assets\n",
      "Epoch 9/20\n",
      "28/28 [==============================] - 52s 2s/step - loss: 0.0742 - accuracy: 0.9690 - val_loss: 0.1360 - val_accuracy: 0.9500\n",
      "INFO:tensorflow:Assets written to: model-009.model\\assets\n",
      "Epoch 10/20\n",
      "28/28 [==============================] - 47s 2s/step - loss: 0.0600 - accuracy: 0.9781 - val_loss: 0.1456 - val_accuracy: 0.9455\n",
      "Epoch 11/20\n",
      "28/28 [==============================] - 48s 2s/step - loss: 0.0592 - accuracy: 0.9815 - val_loss: 0.2128 - val_accuracy: 0.9364\n",
      "Epoch 12/20\n",
      "28/28 [==============================] - 53s 2s/step - loss: 0.0263 - accuracy: 0.9937 - val_loss: 0.2681 - val_accuracy: 0.9364\n",
      "Epoch 13/20\n",
      "28/28 [==============================] - 62s 2s/step - loss: 0.0670 - accuracy: 0.9758 - val_loss: 0.1716 - val_accuracy: 0.9318\n",
      "Epoch 14/20\n",
      "28/28 [==============================] - 58s 2s/step - loss: 0.0751 - accuracy: 0.9777 - val_loss: 0.1834 - val_accuracy: 0.9409\n",
      "Epoch 15/20\n",
      "28/28 [==============================] - 69s 2s/step - loss: 0.0474 - accuracy: 0.9861 - val_loss: 0.1705 - val_accuracy: 0.9455\n",
      "Epoch 16/20\n",
      "28/28 [==============================] - 56s 2s/step - loss: 0.0268 - accuracy: 0.9909 - val_loss: 0.1820 - val_accuracy: 0.9500\n",
      "Epoch 17/20\n",
      "28/28 [==============================] - 53s 2s/step - loss: 0.0264 - accuracy: 0.9892 - val_loss: 0.1300 - val_accuracy: 0.9545\n",
      "INFO:tensorflow:Assets written to: model-017.model\\assets\n",
      "Epoch 18/20\n",
      "28/28 [==============================] - 58s 2s/step - loss: 0.0258 - accuracy: 0.9939 - val_loss: 0.3044 - val_accuracy: 0.9182\n",
      "Epoch 19/20\n",
      "28/28 [==============================] - 50s 2s/step - loss: 0.0198 - accuracy: 0.9972 - val_loss: 0.1633 - val_accuracy: 0.9545\n",
      "Epoch 20/20\n",
      "28/28 [==============================] - 46s 2s/step - loss: 0.0794 - accuracy: 0.9728 - val_loss: 0.1324 - val_accuracy: 0.9545\n"
     ]
    }
   ],
   "source": [
    "checkpoint = ModelCheckpoint('model-{epoch:03d}.model',monitor='val_loss',verbose=0,save_best_only=True,mode='auto')\n",
    "history=model.fit(train_data,train_target,epochs=20,callbacks=[checkpoint],validation_split=0.2)"
   ]
  },
  {
   "cell_type": "code",
   "execution_count": 32,
   "id": "d412c127",
   "metadata": {},
   "outputs": [
    {
     "name": "stdout",
     "output_type": "stream",
     "text": [
      "9/9 [==============================] - 4s 413ms/step - loss: 0.2036 - accuracy: 0.9420\n",
      "[0.20355169475078583, 0.9420289993286133]\n"
     ]
    }
   ],
   "source": [
    "print(model.evaluate(test_data,test_target))"
   ]
  },
  {
   "cell_type": "code",
   "execution_count": 33,
   "id": "d08aed75",
   "metadata": {},
   "outputs": [],
   "source": [
    "from keras.models import load_model\n"
   ]
  },
  {
   "cell_type": "code",
   "execution_count": 43,
   "id": "7e7e8390",
   "metadata": {},
   "outputs": [],
   "source": [
    "model = load_model('model-017.model')\n",
    "\n",
    "face_clsfr=cv2.CascadeClassifier('C:/Users/KIIT/Desktop/haarcascade_frontalface_default.xml')\n",
    "\n",
    "source=cv2.VideoCapture(0)\n",
    "\n",
    "labels_dict={0:'NO MASK',1:'MASK'}\n",
    "color_dict={0:(0,0,255),1:(0,255,0)}"
   ]
  },
  {
   "cell_type": "code",
   "execution_count": 44,
   "id": "493434db",
   "metadata": {},
   "outputs": [],
   "source": [
    "while(True):\n",
    "\n",
    "    ret,img=source.read()\n",
    "    gray=cv2.cvtColor(img,cv2.COLOR_BGR2GRAY)\n",
    "    faces=face_clsfr.detectMultiScale(gray,1.3,5)  \n",
    "\n",
    "    for (x,y,w,h) in faces:\n",
    "    \n",
    "        face_img=gray[y:y+w,x:x+w]\n",
    "        resized=cv2.resize(face_img,(100,100))\n",
    "        normalized=resized/255.0\n",
    "        reshaped=np.reshape(normalized,(1,100,100,1))\n",
    "        result=model.predict(reshaped)\n",
    "\n",
    "        label=np.argmax(result,axis=1)[0]\n",
    "      \n",
    "        cv2.rectangle(img,(x,y),(x+w,y+h),color_dict[label],2)\n",
    "        cv2.rectangle(img,(x,y-40),(x+w,y),color_dict[label],-1)\n",
    "        cv2.putText(img, labels_dict[label], (x, y-10),cv2.FONT_HERSHEY_SIMPLEX,0.8,(255,255,255),2)\n",
    "        \n",
    "        \n",
    "    cv2.imshow('LIVE',img)\n",
    "    key=cv2.waitKey(1)\n",
    "    \n",
    "    if(key==27):\n",
    "        break\n",
    "        \n",
    "cv2.destroyAllWindows()\n",
    "source.release()"
   ]
  },
  {
   "cell_type": "code",
   "execution_count": null,
   "id": "fb7d5c8c",
   "metadata": {},
   "outputs": [],
   "source": []
  }
 ],
 "metadata": {
  "kernelspec": {
   "display_name": "Python 3",
   "language": "python",
   "name": "python3"
  },
  "language_info": {
   "codemirror_mode": {
    "name": "ipython",
    "version": 3
   },
   "file_extension": ".py",
   "mimetype": "text/x-python",
   "name": "python",
   "nbconvert_exporter": "python",
   "pygments_lexer": "ipython3",
   "version": "3.8.5"
  }
 },
 "nbformat": 4,
 "nbformat_minor": 5
}
